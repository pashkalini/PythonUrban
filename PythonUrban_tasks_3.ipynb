{
  "nbformat": 4,
  "nbformat_minor": 0,
  "metadata": {
    "colab": {
      "provenance": [],
      "collapsed_sections": [],
      "include_colab_link": true
    },
    "kernelspec": {
      "name": "python3",
      "display_name": "Python 3"
    },
    "language_info": {
      "name": "python"
    }
  },
  "cells": [
    {
      "cell_type": "markdown",
      "metadata": {
        "id": "view-in-github",
        "colab_type": "text"
      },
      "source": [
        "<a href=\"https://colab.research.google.com/github/pashkalini/PythonUrban/blob/main/PythonUrban_tasks_3.ipynb\" target=\"_parent\"><img src=\"https://colab.research.google.com/assets/colab-badge.svg\" alt=\"Open In Colab\"/></a>"
      ]
    },
    {
      "cell_type": "markdown",
      "source": [
        "f-строки"
      ],
      "metadata": {
        "id": "0dx6N97Pmh42"
      }
    },
    {
      "cell_type": "code",
      "source": [
        "name = \"Пушкин\"\n",
        "value = 9.67\n",
        "print(f\"Индекс озеленения территории {name} равен {value}%\")  # такой формат строк, позволяет добавлять в него динамические значения"
      ],
      "metadata": {
        "colab": {
          "base_uri": "https://localhost:8080/"
        },
        "id": "9-bPJUJYnj5c",
        "outputId": "4c9a201f-2899-4d44-cefb-860c0b15249d"
      },
      "execution_count": null,
      "outputs": [
        {
          "output_type": "stream",
          "name": "stdout",
          "text": [
            "Индекс озеленения территории Пушкин равен 9.67%\n"
          ]
        }
      ]
    },
    {
      "cell_type": "markdown",
      "source": [
        "##### **Задача 1** "
      ],
      "metadata": {
        "id": "TJj0RE5LmZ7C"
      }
    },
    {
      "cell_type": "code",
      "execution_count": null,
      "metadata": {
        "id": "GnjKATNlakVX"
      },
      "outputs": [],
      "source": [
        "class GreenZoneIndex:\n",
        "    def __init__(self, territory_name, territory_area, green_zones):\n",
        "        \"\"\"\n",
        "        :param territory_name: Название территории\n",
        "        :param territory_area: Площадь территории\n",
        "        :param green_zones: Список площадей парков\n",
        "        \"\"\"\n",
        "        # TODO все аргументы конструктора записать в атрибуты экземпляра класса\n",
        "\n",
        "        self.green_index = None  # индекс озеленения\n",
        "        # TODO посчитать индекс озеленения с помощью метода calculate_green_index\n",
        "\n",
        "    def calculate_green_index(self):\n",
        "        \"\"\"\n",
        "        Метод для вычисления индекса озеленения.\n",
        "\n",
        "        Индекс рассчитывается как отношение площади всех парков к площади территории\n",
        "        \"\"\"\n",
        "        ...\n",
        "        # TODO посчитать индекс озеленения с атрибутов экземпляра класса\n",
        "\n",
        "\n",
        "territory_name = \"Пушкин\"\n",
        "territory_area = 28676\n",
        "green_zones = [302, 487, 420, 325, 471, 363, 404]\n",
        "# TODO Создать экземпряр класса и с помощью его атрибутов распечатать индекс озеленения в процентах до 2 знака после запятой. \n",
        "\n",
        "# Ожидаемый ответ Индекс озеленения территории Пушкин равен 9.67%\n"
      ]
    },
    {
      "cell_type": "markdown",
      "source": [
        "##### ***Задача 2***"
      ],
      "metadata": {
        "id": "C2lbIinfkDAx"
      }
    },
    {
      "cell_type": "markdown",
      "source": [
        "Дан список словарей территорий.  \n",
        "Сделать новый список с объектами ранее реализованного типа `GreenZoneIndex`.  "
      ],
      "metadata": {
        "id": "pNq9zNCokLzE"
      }
    },
    {
      "cell_type": "code",
      "source": [
        "list_territories = [\n",
        "    {\n",
        "        \"territory_name\": \"Пушкин\",\n",
        "        \"territory_area\": 28676,\n",
        "        \"green_zones\": [302, 487, 420, 325, 471, 363, 404]\n",
        "    },\n",
        "    {\n",
        "        \"territory_name\": \"Павловск\",\n",
        "        \"territory_area\": 21025,\n",
        "        \"green_zones\": [360, 375, 223, 258, 345, 296, 303]\n",
        "    },\n",
        "    {\n",
        "        \"territory_name\": \"Петергоф\",\n",
        "        \"territory_area\": 44274,\n",
        "        \"green_zones\": [364, 447, 438, 223, 336, 431, 442]\n",
        "    },\n",
        "]"
      ],
      "metadata": {
        "id": "48scmiImcKCf"
      },
      "execution_count": null,
      "outputs": []
    },
    {
      "cell_type": "markdown",
      "source": [
        "##### ***Задача 3***"
      ],
      "metadata": {
        "id": "UmvFY4-Oo9i2"
      }
    },
    {
      "cell_type": "markdown",
      "source": [
        "Написать функцию `get_mean_green_index`,  \n",
        "которая в качестве аргумента принимает список объектов типа `GreenZoneIndex` и считает от них средний индекс озеленения. "
      ],
      "metadata": {
        "id": "CsoJ6DA4o_8F"
      }
    },
    {
      "cell_type": "code",
      "source": [],
      "metadata": {
        "id": "3x3x4t76o8oT"
      },
      "execution_count": null,
      "outputs": []
    },
    {
      "cell_type": "markdown",
      "source": [
        "##### ***Задача 4***"
      ],
      "metadata": {
        "id": "SBLuQt2Ur2By"
      }
    },
    {
      "cell_type": "markdown",
      "source": [
        "Написать функцию `filter_min_green_index`,  \n",
        "которая в качестве аргументов принимает список объектов типа `GreenZoneIndex`  \n",
        "и минимальный порог озеленения, значение по умолчанию 0.1. \n",
        "\n",
        "Результатом функции должно быть число территорий,  \n",
        "индекс озеленения которых ниже заданного минимального порога. "
      ],
      "metadata": {
        "id": "SPTJtvr3r2By"
      }
    },
    {
      "cell_type": "code",
      "source": [],
      "metadata": {
        "id": "FA30f44-gFqF"
      },
      "execution_count": null,
      "outputs": []
    },
    {
      "cell_type": "markdown",
      "metadata": {
        "id": "ui4tAjhmzeMP"
      },
      "source": [
        "## list comprehension"
      ]
    },
    {
      "cell_type": "markdown",
      "source": [
        "### Обработка каждого элемента"
      ],
      "metadata": {
        "id": "n9NGbRXTfprL"
      }
    },
    {
      "cell_type": "code",
      "metadata": {
        "colab": {
          "base_uri": "https://localhost:8080/"
        },
        "id": "iNRAdVgAz4Dy",
        "outputId": "b3a65af9-f981-44ec-ee2e-b6452d085f0d"
      },
      "source": [
        "cart = [3, 4, 12, 17, 19, 21, 23, 26, 30]\n",
        "\n",
        "cashier = []  # новый список с помощью метода append\n",
        "for item in cart:\n",
        "    cashier.append(item)\n",
        "print(cashier)\n",
        "\n",
        "cashier = [item for item in cart]\n",
        "print(cashier)"
      ],
      "execution_count": null,
      "outputs": [
        {
          "output_type": "stream",
          "name": "stdout",
          "text": [
            "[3, 4, 12, 17, 19, 21, 23, 26, 30]\n",
            "[3, 4, 12, 17, 19, 21, 23, 26, 30]\n"
          ]
        }
      ]
    },
    {
      "cell_type": "markdown",
      "metadata": {
        "id": "2M-NIZP0zisn"
      },
      "source": [
        "![](https://github.com/mrdbourke/python-list-comprehensions-tutorial/raw/f68f956c745932e1b824a69994706d715adde0a1/images/list-comprehensions-1.png)"
      ]
    },
    {
      "cell_type": "markdown",
      "metadata": {
        "id": "5LQP3XvhfXJ1"
      },
      "source": [
        "##### ***Задача. Сделать название городов с заглавной буквы.***\n",
        "\n"
      ]
    },
    {
      "cell_type": "code",
      "metadata": {
        "colab": {
          "base_uri": "https://localhost:8080/"
        },
        "outputId": "5d0ed8e6-9e8e-4ce4-9a1a-df4d928bbc3d",
        "id": "AERkw6gvfXJ2"
      },
      "source": [
        "list_cities = [\"москва\", \"иЖЕВСк\", \"Владивосток\", \"новосибирсК\", \"мУРМАНСК\"]\n",
        "\n",
        "list_cities = ...  # TODO метод строки capitalize делает первую букву заглавной, а все остальные строчными\n",
        "print(list_cities)"
      ],
      "execution_count": null,
      "outputs": [
        {
          "output_type": "stream",
          "name": "stdout",
          "text": [
            "['Москва', 'Ижевск', 'Владивосток', 'Новосибирск', 'Мурманск']\n"
          ]
        }
      ]
    },
    {
      "cell_type": "markdown",
      "source": [
        "### Фильтрация элементов"
      ],
      "metadata": {
        "id": "KqBclW8qfxjg"
      }
    },
    {
      "cell_type": "code",
      "metadata": {
        "id": "MeJH1lcB0RCF",
        "colab": {
          "base_uri": "https://localhost:8080/"
        },
        "outputId": "34128a00-bce8-4149-a06b-206483f732bd"
      },
      "source": [
        "cart = [5, 7, 9, 10, 12, 15, 19, 20, 22]\n",
        "\n",
        "cashier_3 = []\n",
        "for item in cart:\n",
        "    if item % 2 == 0:  # только четные\n",
        "        cashier_3.append(item)\n",
        "print(cashier_3)\n",
        "\n",
        "cashier_3 = [item for item in cart if item % 2 == 0]\n",
        "print(cashier_3)"
      ],
      "execution_count": null,
      "outputs": [
        {
          "output_type": "stream",
          "name": "stdout",
          "text": [
            "[10, 12, 20, 22]\n",
            "[10, 12, 20, 22]\n"
          ]
        }
      ]
    },
    {
      "cell_type": "markdown",
      "metadata": {
        "id": "snHVDtsj0Zx3"
      },
      "source": [
        "![](https://github.com/mrdbourke/python-list-comprehensions-tutorial/raw/f68f956c745932e1b824a69994706d715adde0a1/images/list-comprehensions-2.png)"
      ]
    },
    {
      "cell_type": "markdown",
      "metadata": {
        "id": "HAFR21irgBpG"
      },
      "source": [
        "##### ***Задача. Отфильтровать города с населением больше 1 млн. человек.***\n",
        "\n"
      ]
    },
    {
      "cell_type": "code",
      "source": [
        "list_cities = [\n",
        "    {\n",
        "        \"name\": \"Москва\",\n",
        "        \"population\": 12 * 10 ** 6,\n",
        "    },\n",
        "    {\n",
        "        \"name\": \"Санкт-Петербург\",\n",
        "        \"population\": 5 * 10 ** 6,\n",
        "    },\n",
        "    {\n",
        "        \"name\": \"Ижевск\",\n",
        "        \"population\": 0.6 * 10 ** 6,\n",
        "    },\n",
        "]\n",
        "\n",
        "filter_population = 10 ** 6\n",
        "# TODO отфильтровать города"
      ],
      "metadata": {
        "colab": {
          "base_uri": "https://localhost:8080/"
        },
        "id": "Ae_6bDglgMCw",
        "outputId": "786be135-189a-4d7d-9a11-145219f5794c"
      },
      "execution_count": null,
      "outputs": [
        {
          "output_type": "stream",
          "name": "stdout",
          "text": [
            "[{'name': 'Москва', 'population': 12000000}, {'name': 'Санкт-Петербург', 'population': 5000000}]\n"
          ]
        }
      ]
    }
  ]
}